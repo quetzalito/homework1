{
  "metadata": {
    "language_info": {
      "codemirror_mode": {
        "name": "python",
        "version": 3
      },
      "file_extension": ".py",
      "mimetype": "text/x-python",
      "name": "python",
      "nbconvert_exporter": "python",
      "pygments_lexer": "ipython3",
      "version": "3.8"
    },
    "kernelspec": {
      "name": "python",
      "display_name": "Python (Pyodide)",
      "language": "python"
    }
  },
  "nbformat_minor": 4,
  "nbformat": 4,
  "cells": [
    {
      "cell_type": "code",
      "source": "import random\n\nhse_prediction = [\n    ['Слушайте каждого. Идеи приходят отовсюду.'],\n    ['Скоро контрольная точка по нелюбимому предмету('],\n    ['В новом году обещаю себе смотреть не больше трех серий сериала за раз'],\n    ['Угостите преподавателя конфеткой!'],\n    ['Хорошие новости придут к вам по  Яндекс почте.'],\n    ['Что ни делается - все к лучшему, и даже первая пара, ожидающая Вас в обновлённом расписании.'],\n    ['Делайте то, чего просит душа и тело - не идите на пары!'],\n    ['Пора собирать чемоданы: Вас ждет экспедиция на Сахалин!'],\n    ['Пришло время сдать все долги.'],\n    ['Вы не получите автомат по физре в следующем полугодии.'],\n    ['В новом году обещаю себе спать'],\n    ['Если вы ждали знака - то ВОТ ОН! Срочно участвуйте в ближайшей конференции!'],\n    ['Вам повысят стипендию на 1000 рублей в этом году.'],\n    ['Ураааааааааааа! Завтра одни только  лекции!'],\n    ['Все лучшее происходит,когда Вас нет на паре!'],\n    ['На мобильность только в Питер'],\n    ['В новом году обещаю себе защитить диссертацию'],\n    ['В новом году обещаю себе запомнить имена одногруппников'],\n    ['Через час  Вы снова проголодаетесь. Шоколад можно найти в магазине.']\n        ]\n\nhse_prediction = sum(hse_prediction, [])",
      "metadata": {
        "trusted": true
      },
      "execution_count": 50,
      "outputs": []
    },
    {
      "cell_type": "code",
      "source": "cor_prediction = []\n    for i in hse_prediction:\n        if i.startswith(\'В новом году\') == False:\n        cor_prediction.append(i)\n     \nprint(\"Ваше предсказание на Новый год: \\n\", random.choice(hse_prediction))",
      "metadata": {
        "trusted": true
      },
      "execution_count": 51,
      "outputs": [
        {
          "name": "stdout",
          "text": "Ваше предсказание на Новый год: \n В новом году обещаю себе защитить диссертацию\n",
          "output_type": "stream"
        }
      ]
    },
    {
      "cell_type": "code",
      "source": "",
      "metadata": {},
      "execution_count": null,
      "outputs": []
    }
  ]
}
