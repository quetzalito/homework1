{
  "nbformat": 4,
  "nbformat_minor": 0,
  "metadata": {
    "colab": {
      "provenance": [],
      "authorship_tag": "ABX9TyNwskHZ9fVND7tK6+iZbGI/",
      "include_colab_link": true
    },
    "kernelspec": {
      "name": "python3",
      "display_name": "Python 3"
    },
    "language_info": {
      "name": "python"
    }
  },
  "cells": [
    {
      "cell_type": "markdown",
      "metadata": {
        "id": "view-in-github",
        "colab_type": "text"
      },
      "source": [
        "<a href=\"https://colab.research.google.com/github/quetzalito/homework/blob/main/HWParsingSadykova.ipynb\" target=\"_parent\"><img src=\"https://colab.research.google.com/assets/colab-badge.svg\" alt=\"Open In Colab\"/></a>"
      ]
    },
    {
      "cell_type": "code",
      "execution_count": null,
      "metadata": {
        "id": "wIPNkxSnMQaE"
      },
      "outputs": [],
      "source": [
        "!pip install requests"
      ]
    },
    {
      "cell_type": "code",
      "source": [
        "!pip install beautifulsoup4 "
      ],
      "metadata": {
        "id": "RATGbMswNOtu"
      },
      "execution_count": null,
      "outputs": []
    },
    {
      "cell_type": "code",
      "source": [
        "import requests as rq\n",
        "\n",
        "from bs4 import BeautifulSoup"
      ],
      "metadata": {
        "id": "ed1MQfFCNR7s"
      },
      "execution_count": 3,
      "outputs": []
    },
    {
      "cell_type": "code",
      "source": [
        "url = 'https://www.vedomosti.ru/ecology'"
      ],
      "metadata": {
        "id": "zFkdd-2XNU3v"
      },
      "execution_count": 4,
      "outputs": []
    },
    {
      "cell_type": "code",
      "source": [
        "page = rq.get(url) \n",
        "\n",
        "print(page) \n",
        "print(type(page))"
      ],
      "metadata": {
        "id": "yq25Of_eNalI"
      },
      "execution_count": null,
      "outputs": []
    },
    {
      "cell_type": "code",
      "source": [
        "print(page.text)"
      ],
      "metadata": {
        "id": "IKVztqesNvgN"
      },
      "execution_count": null,
      "outputs": []
    },
    {
      "cell_type": "code",
      "source": [
        "soup = BeautifulSoup(page.text, features=\"html.parser\")\n",
        "print(soup.prettify())"
      ],
      "metadata": {
        "id": "Wv7IcyLCNzYq"
      },
      "execution_count": null,
      "outputs": []
    },
    {
      "cell_type": "code",
      "source": [
        "soup.find_all(\"a\")"
      ],
      "metadata": {
        "id": "a-fdVVqwObL7"
      },
      "execution_count": null,
      "outputs": []
    },
    {
      "cell_type": "code",
      "source": [
        "print(soup.text)"
      ],
      "metadata": {
        "id": "h0N5GzXn2EtB"
      },
      "execution_count": null,
      "outputs": []
    },
    {
      "cell_type": "code",
      "source": [
        "titles = []\n",
        "for x in soup.find_all(\"a\"): \n",
        "  titles.append(x.text) "
      ],
      "metadata": {
        "id": "0c1d_Iae2enp"
      },
      "execution_count": 10,
      "outputs": []
    },
    {
      "cell_type": "code",
      "source": [
        "links = []\n",
        "for link in soup.find_all(\"a\"):\n",
        "  links.append(link.get('href')) \n"
      ],
      "metadata": {
        "id": "pGu1V5982t-N"
      },
      "execution_count": 11,
      "outputs": []
    },
    {
      "cell_type": "code",
      "source": [
        "print(titles)\n",
        "print(links)"
      ],
      "metadata": {
        "id": "zTvOx_Ku22E8"
      },
      "execution_count": null,
      "outputs": []
    },
    {
      "cell_type": "code",
      "source": [
        "data = []\n",
        "\n",
        "for i in range(len(titles)): # списки равной длины, переберем поиндексно\n",
        "  if '№' in titles[i]:\n",
        "    l = []\n",
        "    l.append('https://www.vedomosti.ru' + links[i])\n",
        "    data.append(l)\n",
        "\n",
        "print(data)"
      ],
      "metadata": {
        "id": "sfX7AoWJ3DQ8"
      },
      "execution_count": null,
      "outputs": []
    },
    {
      "cell_type": "code",
      "source": [
        "links_dates = sum(data, [])\n",
        "print(links_dates)"
      ],
      "metadata": {
        "id": "u0jWSOfL3ecz"
      },
      "execution_count": null,
      "outputs": []
    },
    {
      "cell_type": "code",
      "source": [
        "urls = []\n",
        "for i in range(len(links_dates)):\n",
        "  page = rq.get(links_dates[i])\n",
        "  soup = BeautifulSoup(page.text, features=\"html.parser\")\n",
        "  soup.find_all(\"a\")\n",
        "  for link in soup.find_all('a'):\n",
        "    urls.append(link.get('href'))\n",
        "urls"
      ],
      "metadata": {
        "id": "tvw5g1y8NGrD"
      },
      "execution_count": null,
      "outputs": []
    },
    {
      "cell_type": "code",
      "source": [
        "new_urls = []\n",
        "for i in range(len(urls)):\n",
        "  if urls[i] != None:\n",
        "    new_urls.append(urls[i])\n",
        "new_urls"
      ],
      "metadata": {
        "id": "DLAAvNXqScVL"
      },
      "execution_count": null,
      "outputs": []
    },
    {
      "cell_type": "code",
      "source": [
        "ecology_urls = []\n",
        "for i in range(len(new_urls)):\n",
        "  if 'articles' in new_urls[i]:\n",
        "    ecology_urls.append(new_urls[i])\n",
        "ecology_urls"
      ],
      "metadata": {
        "id": "7it_8D3oTCOf"
      },
      "execution_count": null,
      "outputs": []
    },
    {
      "cell_type": "code",
      "source": [
        "full_urls = []\n",
        "\n",
        "for i in range(len(ecology_urls)):\n",
        "  full_urls.append('https://www.vedomosti.ru' + ecology_urls[i]) \n",
        "\n",
        "full_urls"
      ],
      "metadata": {
        "id": "fP4Hxjt0PmDI"
      },
      "execution_count": null,
      "outputs": []
    },
    {
      "cell_type": "code",
      "source": [
        "url0 = full_urls[0]\n",
        "\n",
        "page0 = rq.get(url0)\n",
        "soup0 = BeautifulSoup(page0.text)\n",
        "print(soup0.prettify())"
      ],
      "metadata": {
        "id": "76ZoaK7qVTJv"
      },
      "execution_count": null,
      "outputs": []
    },
    {
      "cell_type": "code",
      "source": [
        "article_date = soup0.find('time').attrs['datetime']\n",
        "print(article_date)"
      ],
      "metadata": {
        "id": "HYHxb6-GVkch"
      },
      "execution_count": null,
      "outputs": []
    },
    {
      "cell_type": "code",
      "source": [
        "title = soup0.find_all('meta', {'property' : 'og:title'})[0].attrs['content']\n",
        "print(title)"
      ],
      "metadata": {
        "id": "_ISObPRkVrrD"
      },
      "execution_count": null,
      "outputs": []
    },
    {
      "cell_type": "code",
      "source": [
        "text_list = soup0.find_all('p', {'class' : 'box-paragraph__text'})\n",
        "\n",
        "text = []\n",
        "for i in text_list:\n",
        "  text.append(i.text)\n",
        "\n",
        "final_text = ' '.join(text)\n",
        "final_text"
      ],
      "metadata": {
        "id": "7lgIj2HSwgjx"
      },
      "execution_count": null,
      "outputs": []
    },
    {
      "cell_type": "code",
      "source": [
        "def GetNews(url0):\n",
        "  page0 = rq.get(url0)\n",
        "  soup0 = BeautifulSoup(page0.text, features=\"html.parser\")\n",
        "  article_date = soup0.find('time').attrs['datetime']\n",
        "  title = soup0.find_all('meta', {'property' : 'og:title'})[0].attrs['content']\n",
        "  text_list = soup0.find_all('p', {'class' : 'box-paragraph__text'})\n",
        "  text = []\n",
        "  for i in text_list:\n",
        "    text.append(i.text)\n",
        "  final_text = ' '.join(text)\n",
        "  return url0, article_date, title, final_text"
      ],
      "metadata": {
        "id": "eIJJZT_Zxtem"
      },
      "execution_count": 80,
      "outputs": []
    },
    {
      "cell_type": "code",
      "source": [
        "news = []\n",
        "\n",
        "for link in full_urls:\n",
        "  new = GetNews(link)\n",
        "  news.append(new)"
      ],
      "metadata": {
        "id": "8lpxdIZRyPzC"
      },
      "execution_count": 81,
      "outputs": []
    },
    {
      "cell_type": "code",
      "source": [
        "news"
      ],
      "metadata": {
        "id": "avlXz6usyVLy"
      },
      "execution_count": null,
      "outputs": []
    },
    {
      "cell_type": "code",
      "source": [
        "import pandas as pd\n",
        "\n",
        "df = pd.DataFrame(news, columns = ['ссылка', 'дата', 'заголовок', 'текст'])\n",
        "df.head()"
      ],
      "metadata": {
        "id": "nM5yq0FGytEu"
      },
      "execution_count": null,
      "outputs": []
    },
    {
      "cell_type": "code",
      "source": [
        "df.to_excel('nplus_news.xlsx')"
      ],
      "metadata": {
        "id": "cDekJvACy2QS"
      },
      "execution_count": 84,
      "outputs": []
    }
  ]
}