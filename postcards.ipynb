{
  "metadata": {
    "language_info": {
      "codemirror_mode": {
        "name": "python",
        "version": 3
      },
      "file_extension": ".py",
      "mimetype": "text/x-python",
      "name": "python",
      "nbconvert_exporter": "python",
      "pygments_lexer": "ipython3",
      "version": "3.8"
    },
    "kernelspec": {
      "name": "python",
      "display_name": "Python (Pyodide)",
      "language": "python"
    }
  },
  "nbformat_minor": 4,
  "nbformat": 4,
  "cells": [
    {
      "cell_type": "code",
      "source": "postcards = {\n    \"Maria\": \"London\",\n    \"Lorenzo\": \"Milan\",\n    \"Oleg\": \"Canberra\",\n    \"Hans\": \"Calgary\",\n    \"Mark\": \"Milan\",\n    \"Alex\": \"Krakow\",\n    \"Julia\": \"Murmansk\"\n}",
      "metadata": {
        "trusted": true
      },
      "execution_count": 1,
      "outputs": []
    },
    {
      "cell_type": "code",
      "source": "new_postcards = {\"Petra\": \"Paris\", \"Ivan\": \"Moscow\"}\npostcards.update(new_postcards)",
      "metadata": {
        "trusted": true
      },
      "execution_count": 2,
      "outputs": []
    },
    {
      "cell_type": "code",
      "source": "postcards[\"Oleg\"] = \"Sydney\"",
      "metadata": {
        "trusted": true
      },
      "execution_count": 3,
      "outputs": []
    },
    {
      "cell_type": "code",
      "source": "values = postcards.values()\nprint(values)\nif len(values) > 10:\n    print(\"Открыток из разных городов действительно больше 10!\")\nelse:\n    print(\"У Алисы на самом деле меньше открыток из уникальных городов.\")",
      "metadata": {
        "trusted": true
      },
      "execution_count": 4,
      "outputs": [
        {
          "name": "stdout",
          "text": "dict_values(['London', 'Milan', 'Sydney', 'Calgary', 'Milan', 'Krakow', 'Murmansk', 'Paris', 'Moscow'])\nУ Алисы на самом деле меньше открыток из уникальных городов.\n",
          "output_type": "stream"
        }
      ]
    },
    {
      "cell_type": "code",
      "source": "",
      "metadata": {},
      "execution_count": null,
      "outputs": []
    }
  ]
}